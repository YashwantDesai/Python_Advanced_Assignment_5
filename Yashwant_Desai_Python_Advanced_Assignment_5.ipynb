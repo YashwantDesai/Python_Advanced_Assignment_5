{
 "cells": [
  {
   "cell_type": "markdown",
   "id": "0c27a818",
   "metadata": {},
   "source": [
    "# Yashwant Desai –  Python_Advanced_Assignment_5"
   ]
  },
  {
   "cell_type": "markdown",
   "id": "56e694fa",
   "metadata": {},
   "source": [
    "# Q1. What is the meaning of multiple inheritance?"
   ]
  },
  {
   "cell_type": "markdown",
   "id": "08d41ebc",
   "metadata": {},
   "source": [
    "Multiple inheritance is a concept in object-oriented programming where a class can inherit attributes and methods from more than one parent class. A class can inherit from two or more base classes.We can create a new class that inherits from multiple parent classes by specifying them in the class definition using a comma-separated list within parentheses."
   ]
  },
  {
   "cell_type": "code",
   "execution_count": 1,
   "id": "f843539b",
   "metadata": {},
   "outputs": [
    {
     "name": "stdout",
     "output_type": "stream",
     "text": [
      "Method from Parent1\n",
      "Method from Parent2\n"
     ]
    }
   ],
   "source": [
    "class Parent1:\n",
    "    def method1(self):\n",
    "        print(\"Method from Parent1\")\n",
    "class Parent2:\n",
    "    def method2(self):\n",
    "        print(\"Method from Parent2\")\n",
    "class Child(Parent1, Parent2):\n",
    "    pass\n",
    "child = Child()\n",
    "child.method1()\n",
    "child.method2()"
   ]
  },
  {
   "cell_type": "markdown",
   "id": "c70d6ca8",
   "metadata": {},
   "source": [
    "# Q2. What is the concept of delegation?"
   ]
  },
  {
   "cell_type": "markdown",
   "id": "54803e2d",
   "metadata": {},
   "source": [
    "Delegation is a design pattern where an object forwards certain tasks or method calls to another object, allowing for code reuse and modularity. It promotes composing objects to achieve flexibility and maintainability by separating concerns."
   ]
  },
  {
   "cell_type": "code",
   "execution_count": 3,
   "id": "2dc10f92",
   "metadata": {},
   "outputs": [
    {
     "name": "stdout",
     "output_type": "stream",
     "text": [
      "Logging: User created: yash_desai\n"
     ]
    }
   ],
   "source": [
    "class Logger:\n",
    "    def log(self, message):\n",
    "        print(f\"Logging: {message}\")\n",
    "class UserManager:\n",
    "    def __init__(self, logger):\n",
    "        self.logger = logger\n",
    "    def create_user(self, username):\n",
    "        self.logger.log(f\"User created: {username}\")\n",
    "logger = Logger()\n",
    "user_manager = UserManager(logger)\n",
    "user_manager.create_user(\"yash_desai\")"
   ]
  },
  {
   "cell_type": "markdown",
   "id": "6323a7f4",
   "metadata": {},
   "source": [
    "# Q3. What is the concept of composition?"
   ]
  },
  {
   "cell_type": "markdown",
   "id": "539ca80c",
   "metadata": {},
   "source": [
    "Composition is a design principle where we create complex objects by combining simpler objects as components. It promotes building larger, more specialized objects by using smaller, reusable ones, fostering code reusability and maintainability."
   ]
  },
  {
   "cell_type": "code",
   "execution_count": 2,
   "id": "55850a62",
   "metadata": {},
   "outputs": [
    {
     "name": "stdout",
     "output_type": "stream",
     "text": [
      "Engine started\n",
      "Car is moving\n"
     ]
    }
   ],
   "source": [
    "class Engine:\n",
    "    def start(self):\n",
    "        print(\"Engine started\")\n",
    "class Car:\n",
    "    def __init__(self):\n",
    "        self.engine = Engine()\n",
    "    def drive(self):\n",
    "        self.engine.start()\n",
    "        print(\"Car is moving\")\n",
    "my_car = Car()\n",
    "my_car.drive()"
   ]
  },
  {
   "cell_type": "markdown",
   "id": "a8e1abb8",
   "metadata": {},
   "source": [
    "# Q4. What are bound methods and how do we use them?"
   ]
  },
  {
   "cell_type": "raw",
   "id": "bb41ed0c",
   "metadata": {},
   "source": [
    "Bound methods are methods associated with instances of a class. They have automatic access to the instance's attributes and are called using the instance followed by the method name (e.g., instance.method()). Bound methods allow us to work with the data and behavior of individual objects, promoting encapsulation and modularity in object-oriented programming.\n",
    "\n",
    "steps to use bound methods\n",
    "\n",
    "1 Define a Class: Create a class that includes the methods you want to use as bound methods. These methods should accept self as their first parameter, as it represents the instance the method will be bound to.\n",
    "\n",
    "2 Create an Instance: Instantiate an object from the class. This instance will be used to call the bound methods.\n",
    "\n",
    "3 Call Bound Methods: Use the instance you created to call the bound methods using the dot notation (i.e., instance.method()). Python will automatically pass the instance as the first argument (self) to the method."
   ]
  },
  {
   "cell_type": "code",
   "execution_count": 5,
   "id": "4c083d24",
   "metadata": {},
   "outputs": [
    {
     "name": "stdout",
     "output_type": "stream",
     "text": [
      "88\n"
     ]
    }
   ],
   "source": [
    "class MyClass:\n",
    "    def __init__(self, value):\n",
    "        self.value = value\n",
    "    def print_value(self):\n",
    "        print(self.value)\n",
    "obj = MyClass(88)\n",
    "obj.print_value()"
   ]
  },
  {
   "cell_type": "markdown",
   "id": "156d23ad",
   "metadata": {},
   "source": [
    "# Q5. What is the purpose of pseudoprivate attributes?"
   ]
  },
  {
   "cell_type": "markdown",
   "id": "a8380598",
   "metadata": {},
   "source": [
    "The purpose of pseudoprivate attributes in Python is to reduce the risk of name collisions, promote data encapsulation, and provide clarity and documentation within a class. These attributes are not truly private but are named with double underscores to signal their intended internal use and discourage direct access from outside the class. They encourage the use of getter and setter methods for better control over attribute access.\n",
    "Below are the main purposes of pseudoprivate attributes.\n",
    "\n",
    "1 Name Collision Prevention: By prefixing an attribute name with double underscores, you reduce the chances of naming conflicts with attributes in subclasses or external code. It's a way to signal to other programmers that the attribute should be treated as private and not modified directly.\n",
    "\n",
    "2 Data Encapsulation: Pseudoprivate attributes promote encapsulation by discouraging direct access to instance variables. Instead, you are encouraged to use getter and setter methods (e.g., get_my_variable and set_my_variable) to access or modify these attributes. This allows for better control over attribute access and can help maintain data integrity.\n",
    "\n",
    "3 Documentation and Clarity: When you encounter an attribute with a double underscore prefix, it signals that this attribute is intended for internal use within the class. It serves as a form of documentation, helping to convey the intended usage of the attribute to other developers."
   ]
  },
  {
   "cell_type": "code",
   "execution_count": 7,
   "id": "d67a5fe5",
   "metadata": {},
   "outputs": [
    {
     "name": "stdout",
     "output_type": "stream",
     "text": [
      "88\n",
      "888\n",
      "888\n"
     ]
    }
   ],
   "source": [
    "class MyClass:\n",
    "    def __init__(self):\n",
    "        self.__private_variable = 88\n",
    "    def get_private_variable(self):\n",
    "        return self.__private_variable\n",
    "    def set_private_variable(self, value):\n",
    "        self.__private_variable = value\n",
    "obj = MyClass()\n",
    "print(obj.get_private_variable())\n",
    "obj.set_private_variable(888)\n",
    "print(obj.get_private_variable())\n",
    "print(obj._MyClass__private_variable)"
   ]
  },
  {
   "cell_type": "markdown",
   "id": "a79c0885",
   "metadata": {},
   "source": [
    "# Done Regards,Yashwant"
   ]
  }
 ],
 "metadata": {
  "kernelspec": {
   "display_name": "Python 3 (ipykernel)",
   "language": "python",
   "name": "python3"
  },
  "language_info": {
   "codemirror_mode": {
    "name": "ipython",
    "version": 3
   },
   "file_extension": ".py",
   "mimetype": "text/x-python",
   "name": "python",
   "nbconvert_exporter": "python",
   "pygments_lexer": "ipython3",
   "version": "3.9.13"
  }
 },
 "nbformat": 4,
 "nbformat_minor": 5
}
